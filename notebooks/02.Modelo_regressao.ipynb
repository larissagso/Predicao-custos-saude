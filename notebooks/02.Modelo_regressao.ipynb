{
 "cells": [
  {
   "cell_type": "markdown",
   "id": "07394937",
   "metadata": {},
   "source": [
    "# Regressão Linear \n",
    "Partição de dados e ajuste de modelo para regressão linear múltipla"
   ]
  },
  {
   "cell_type": "markdown",
   "id": "25c77a13",
   "metadata": {},
   "source": []
  }
 ],
 "metadata": {
  "kernelspec": {
   "display_name": "pcs-py3.13",
   "language": "python",
   "name": "python3"
  },
  "language_info": {
   "name": "python",
   "version": "3.13.5"
  }
 },
 "nbformat": 4,
 "nbformat_minor": 5
}
