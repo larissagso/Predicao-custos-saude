{
 "cells": [
  {
   "cell_type": "markdown",
   "id": "b9c3809f",
   "metadata": {},
   "source": [
    "# Análise Exploratória dos Dados (EDA) #"
   ]
  },
  {
   "cell_type": "code",
   "execution_count": null,
   "id": "bc297ba3",
   "metadata": {},
   "outputs": [],
   "source": [
    "#Importando bibliotecas para análise exploratória\n",
    "import pandas as pd\n",
    "import numpy as np\n",
    "import matplotlib.pyplot as plt\n",
    "import seaborn as sns"
   ]
  },
  {
   "cell_type": "code",
   "execution_count": null,
   "id": "5648340c",
   "metadata": {},
   "outputs": [],
   "source": [
    "# Lendo o arquivo Excel com os dados de custos de saúde\n",
    "df = pd.read_excel('../data/raw/base_custos_saude.xlsx', engine='openpyxl')\n",
    "\n",
    "# Exibindo as primeiras linhas do DataFrame\n",
    "df.head()"
   ]
  },
  {
   "cell_type": "code",
   "execution_count": null,
   "id": "a78760eb",
   "metadata": {},
   "outputs": [],
   "source": [
    "# Verificando valores duplicados \n",
    "df.duplicated().sum()"
   ]
  },
  {
   "cell_type": "code",
   "execution_count": null,
   "id": "1aa78dec",
   "metadata": {},
   "outputs": [],
   "source": [
    "#Matriz de Correlação para guiar quais são as variáveis mais importantes para a análise\n",
    "plt.figure(figsize=(5,5))\n",
    "sns.heatmap(df.drop(['DtRef', 'Fumante', 'Sexo', 'Regiao'], axis=1).corr(), annot=True, fmt=\".2f\", cmap=\"coolwarm\", square=True, cbar_kws={\"shrink\": .8})\n",
    "plt.title(\"Matriz de Correlação\")\n",
    "plt.show()\n"
   ]
  },
  {
   "cell_type": "code",
   "execution_count": null,
   "id": "048fa19e",
   "metadata": {},
   "outputs": [],
   "source": []
  },
  {
   "cell_type": "markdown",
   "id": "1d56e256",
   "metadata": {},
   "source": []
  }
 ],
 "metadata": {
  "kernelspec": {
   "display_name": "pcs-py3.13",
   "language": "python",
   "name": "python3"
  },
  "language_info": {
   "name": "python",
   "version": "3.13.5"
  }
 },
 "nbformat": 4,
 "nbformat_minor": 5
}
