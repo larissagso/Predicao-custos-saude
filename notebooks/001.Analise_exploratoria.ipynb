{
 "cells": [
  {
   "cell_type": "markdown",
   "id": "b9c3809f",
   "metadata": {},
   "source": [
    "# Análise Exploratória dos Dados (EDA) #"
   ]
  },
  {
   "cell_type": "markdown",
   "id": "1d56e256",
   "metadata": {},
   "source": []
  }
 ],
 "metadata": {
  "kernelspec": {
   "display_name": "pcs-py3.13",
   "language": "python",
   "name": "python3"
  },
  "language_info": {
   "name": "python",
   "version": "3.13.5"
  }
 },
 "nbformat": 4,
 "nbformat_minor": 5
}
